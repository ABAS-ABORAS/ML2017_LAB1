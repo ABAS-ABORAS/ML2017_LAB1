{
 "cells": [
  {
   "cell_type": "markdown",
   "metadata": {},
   "source": [
    "# Experiment 1 : Linear Regression and Gradient Descent"
   ]
  },
  {
   "cell_type": "code",
   "execution_count": 4,
   "metadata": {},
   "outputs": [
    {
     "name": "stdout",
     "output_type": "stream",
     "text": [
      "************************************************************* \n",
      "This Result Experiment Linear Regression and Gradient Descent \n",
      "************************************************************* \n"
     ]
    },
    {
     "data": {
      "image/png": "[encoded data removed]",
      "text/plain": [
       "<matplotlib.figure.Figure at 0x9c99898>"
      ]
     },
     "metadata": {},
     "output_type": "display_data"
    }
   ],
   "source": [
    "# Step1: Import Some Library\n",
    "    \n",
    "import sklearn.datasets as SK\n",
    "import numpy as nupy            # import numpy library\n",
    "import pylab as PLO             # import pylab library to Darw Graph\n",
    "from sklearn.model_selection import train_test_split # import train_test_split to  Devided The Datase\n",
    "\n",
    "class Linear(object):\n",
    "    def __init__(item):#\n",
    "        item.w= nupy.zeros((14,1))\n",
    "\n",
    "    def updata(item,stepsize,x,y):\n",
    "        y = nupy.array(y).reshape((y.size, 1))\n",
    "        item.pred_y = nupy.array(nupy.dot(x,item.w))\n",
    "        item.loss=sum(1/(y.size)*(item.pred_y-y)**2)\n",
    "        derivative=-nupy.dot(x.T,y)+nupy.dot(nupy.dot(x.T,x),item.w)#Derivation loss Function\n",
    "        item.w = item.w - derivative * stepsize  # Update The Weight Parameters\n",
    "\n",
    "    def test_loss(item,x,y):\n",
    "        y=nupy.array(y).reshape((y.size,1))\n",
    "        item.pred_y = nupy.array(nupy.dot(x,item.w))\n",
    "        item.testloss=sum(1/(y.size)*(item.pred_y-y)**2)\n",
    "\n",
    "\n",
    "def run():\n",
    "    \n",
    "    #  *****************    load DATA Set *************************\n",
    "    [x, y] = SK.load_svmlight_file(\"C:/ABAS/DATA/housing_scale.txt\")\n",
    "    x = x.todense()\n",
    "    b = nupy.ones(506)  # Number Of Sample = 506 samples\n",
    "    x = nupy.column_stack((x, b))\n",
    "    x_train, x_test, y_train, y_test = train_test_split(x, y, test_size = 0.44, random_state = 42)\n",
    "    \n",
    "    \n",
    "    #************************** Training DATA **********************\n",
    "    example=Linear()\n",
    "    loss_train=nupy.zeros(100) # Initialize with zeros\n",
    "    loss_test=nupy.zeros(100)  # Initialize with zeros\n",
    "    for i in range(100):\n",
    "        example.updata(0.0001,x_train,y_train) # The value of learning rate = 0.0001\n",
    "        loss_train[i]=example.loss\n",
    "        example.test_loss(x_test,y_test)\n",
    "        loss_test[i]=example.testloss\n",
    "    M=nupy.arange(100)\n",
    "    \n",
    "\n",
    "  #****************  Drawing graph of L_train and L_validation  with the number Of iterations  ****************\n",
    "\n",
    "    plot1 = PLO.plot(M,loss_test[0:100],color=\"G\",label='Data Test')\n",
    "    plot2 = PLO.plot(M,loss_train[0:100],color=\"R\", label='Data Train')\n",
    "   \n",
    "    PLO.ylabel('Cost')\n",
    "    PLO.xlabel('Iterations')\n",
    "    print(\"************************************************************* \")\n",
    "    print(\"This Result Experiment Linear Regression and Gradient Descent \")\n",
    "    print(\"************************************************************* \")\n",
    "    PLO.title(\"The GRAPH Of Number iterations\")\n",
    "    PLO.legend()\n",
    "    PLO.show()\n",
    "\n",
    "\n",
    "if __name__ == '__main__':\n",
    "    run()"
   ]
  },
  {
   "cell_type": "code",
   "execution_count": null,
   "metadata": {
    "collapsed": true
   },
   "outputs": [],
   "source": []
  }
 ],
 "metadata": {
  "kernelspec": {
   "display_name": "Python 3",
   "language": "python",
   "name": "python3"
  },
  "language_info": {
   "codemirror_mode": {
    "name": "ipython",
    "version": 3
   },
   "file_extension": ".py",
   "mimetype": "text/x-python",
   "name": "python",
   "nbconvert_exporter": "python",
   "pygments_lexer": "ipython3",
   "version": "3.6.3"
  }
 },
 "nbformat": 4,
 "nbformat_minor": 2
}
